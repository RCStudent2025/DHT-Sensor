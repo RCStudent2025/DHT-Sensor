{
  "cells": [
    {
      "cell_type": "markdown",
      "metadata": {
        "id": "view-in-github",
        "colab_type": "text"
      },
      "source": [
        "<a href=\"https://colab.research.google.com/github/RCStudent2025/DHT-Sensor/blob/main/HCI_Trees_Quiz.ipynb\" target=\"_parent\"><img src=\"https://colab.research.google.com/assets/colab-badge.svg\" alt=\"Open In Colab\"/></a>"
      ]
    },
    {
      "cell_type": "markdown",
      "id": "a785ef96",
      "metadata": {
        "id": "a785ef96"
      },
      "source": [
        "# HCI Trees — Coding Quiz (No External Libraries)\n",
        "\n",
        "**Rules:**\n",
        "- You may use only Python built-ins and `import csv`.\n",
        "- Do **not** use `pandas`, `numpy`, or any other third-party libraries.\n",
        "- Work inside the provided code cells. You may add extra cells if needed.\n",
        "- Dataset file: `/mnt/data/trees_new.csv`"
      ]
    },
    {
      "cell_type": "markdown",
      "id": "62d1193c",
      "metadata": {
        "id": "62d1193c"
      },
      "source": [
        "## Starter: CSV Reader (You may modify if needed)"
      ]
    },
    {
      "cell_type": "code",
      "execution_count": null,
      "id": "415b394d",
      "metadata": {
        "id": "415b394d"
      },
      "outputs": [],
      "source": [
        "import csv\n",
        "\n",
        "DATA_PATH = r\"{}\"\n",
        "\n",
        "def parse_float(x):\n",
        "    try:\n",
        "        return float(x)\n",
        "    except (ValueError, TypeError):\n",
        "        return None\n",
        "\n",
        "def read_trees(path=DATA_PATH):\n",
        "    \"\"\"Read CSV into a list of dicts with numeric conversion where possible.\n",
        "    Expected columns commonly include: Girth (diameter), Height, Volume.\n",
        "    \"\"\"\n",
        "    rows = []\n",
        "    with open(path, newline='') as f:\n",
        "        reader = csv.DictReader(f)\n",
        "        for i, row in enumerate(reader, start=1):\n",
        "            # Convert known numeric fields if they exist\n",
        "            for key in list(row.keys()):\n",
        "                val = row[key]\n",
        "                if val is None:\n",
        "                    continue\n",
        "                v = parse_float(val)\n",
        "                # If parsable as float, store as float\n",
        "                if v is not None:\n",
        "                    row[key] = v\n",
        "            rows.append(row)\n",
        "    return rows\n",
        "\n",
        "# Quick peek (optional)\n",
        "trees = read_trees()\n",
        "print(\"Loaded rows:\", len(trees))\n",
        "if trees:\n",
        "    print(\"Columns:\", list(trees[0].keys()))\n"
      ]
    },
    {
      "cell_type": "markdown",
      "id": "466f79fc",
      "metadata": {
        "id": "466f79fc"
      },
      "source": [
        "## Question 1 — Compare two tree diameters and return a boolean\n",
        "Write a program that reads the file using `csv` and compares the **diameters (girth)** of the **first two trees**.\n",
        "- Return/print a boolean indicating whether the **first** tree’s diameter is **greater than** the second tree’s diameter.\n",
        "- If data is missing or non-numeric, handle gracefully.\n",
        "\n",
        "**Output example:**\n",
        "`True` or `False`\n"
      ]
    },
    {
      "cell_type": "code",
      "execution_count": null,
      "id": "679f38cd",
      "metadata": {
        "id": "679f38cd"
      },
      "outputs": [],
      "source": [
        "# TODO: Implement Q1 here (only csv + built-ins)\n",
        "\n",
        "\n",
        "# Assume the diameter column is named either 'Girth' or 'Diameter'. Adjust if your CSV uses a different name.\n",
        "diam_col =\n",
        "\n",
        "# Extract first two diameters as floats\n",
        "\n",
        "# or raise an informative message\n"
      ]
    },
    {
      "cell_type": "markdown",
      "id": "9184b4c5",
      "metadata": {
        "id": "9184b4c5"
      },
      "source": [
        "## Question 2 — Sort trees in ascending order of diameter\n",
        "Read the dataset and print the **diameters** in ascending order.\n",
        "- Use **only** built-ins and `csv`.\n",
        "- Ignore non-numeric or missing diameter values.\n",
        "\n",
        "**Output example:**\n",
        "`[8.3, 8.6, 8.8, 10.5, ...]`\n"
      ]
    },
    {
      "cell_type": "code",
      "execution_count": null,
      "id": "efee51dd",
      "metadata": {
        "id": "efee51dd"
      },
      "outputs": [],
      "source": [
        "# TODO: Implement Q2 here (only csv + built-ins)\n",
        "\n"
      ]
    },
    {
      "cell_type": "markdown",
      "id": "3626b2c7",
      "metadata": {
        "id": "3626b2c7"
      },
      "source": [
        "## Question 3 — Find the tree with maximum height\n",
        "Read the dataset and find the tree with the **maximum height**.\n",
        "- Print the **row number** (1-based index **within the data rows**, not counting header) and the **height value**.\n",
        "- Handle missing/non-numeric values gracefully.\n"
      ]
    },
    {
      "cell_type": "code",
      "execution_count": null,
      "id": "89c7b1b6",
      "metadata": {
        "id": "89c7b1b6"
      },
      "outputs": [],
      "source": [
        "# TODO: Implement Q3 here (only csv + built-ins)\n",
        "\n"
      ]
    },
    {
      "cell_type": "markdown",
      "id": "64edb29c",
      "metadata": {
        "id": "64edb29c"
      },
      "source": [
        "## Question 4 — Compute the average volume\n",
        "Read the dataset and compute the **average Volume** across all rows that have a numeric Volume.\n",
        "- Print the average as a float.\n"
      ]
    },
    {
      "cell_type": "code",
      "execution_count": null,
      "id": "22e691a1",
      "metadata": {
        "id": "22e691a1"
      },
      "outputs": [],
      "source": [
        "# TODO: Implement Q4 here (only csv + built-ins)\n",
        "\n"
      ]
    },
    {
      "cell_type": "markdown",
      "id": "eb7a655b",
      "metadata": {
        "id": "eb7a655b"
      },
      "source": [
        "## Question 5 — Membership test for a diameter value\n",
        "Ask the user to input a **diameter** value (e.g., `10.3`). Check if any tree has **exactly** that diameter.\n",
        "- If found, print `Tree found`, else print `Not found`.\n",
        "- Use only `csv` and built-ins.\n"
      ]
    },
    {
      "cell_type": "code",
      "execution_count": null,
      "id": "3de40a41",
      "metadata": {
        "id": "3de40a41"
      },
      "outputs": [],
      "source": [
        "# TODO: Implement Q5 here (only csv + built-ins)\n",
        "\n"
      ]
    }
  ],
  "metadata": {
    "kernelspec": {
      "display_name": "Python 3",
      "name": "python3"
    },
    "colab": {
      "provenance": [],
      "include_colab_link": true
    }
  },
  "nbformat": 4,
  "nbformat_minor": 5
}