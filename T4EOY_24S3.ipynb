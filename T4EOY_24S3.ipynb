{
  "cells": [
    {
      "cell_type": "markdown",
      "metadata": {
        "id": "view-in-github",
        "colab_type": "text"
      },
      "source": [
        "<a href=\"https://colab.research.google.com/github/RCStudent2025/DHT-Sensor/blob/main/T4EOY_24S3.ipynb\" target=\"_parent\"><img src=\"https://colab.research.google.com/assets/colab-badge.svg\" alt=\"Open In Colab\"/></a>"
      ]
    },
    {
      "cell_type": "markdown",
      "metadata": {
        "id": "wPN34BIaFybq"
      },
      "source": [
        "# YEAR 2024 - Sec 3 End of Year Examination\n",
        "\n",
        "**<font color='red'>\n",
        "</font>**"
      ]
    },
    {
      "cell_type": "markdown",
      "metadata": {
        "id": "O0KPYShDFybw"
      },
      "source": [
        "# READ THESE INSTRUCTIONS FIRST\n",
        "\n",
        "Answer **all** questions and **save** your work constantly.\n",
        "\n",
        "All tasks must be done in the computer laboratory. You are not allowed to bring in or bring out any piece of work, materials, paper or electronic media or in any other form.\n",
        "\n",
        "The number of marks is given in brackets [ ] at the end of each question or part question.\n",
        "\n",
        "You are reminded of the need for clear presentation in your answers. Please provide comments where appropriate and ensure the use of descriptive variable and function names.\n",
        "\n",
        "If any cell is accidentally deleted in the jupyter notebook, you may refer to the html file to recover the content.\n",
        "\n",
        "You are allowed to add new cells to the notebook, but please make sure to write meaningful comments to explain the purpose.\n",
        "\n",
        "At the end of the examination, **SAVE** all the changes in the notebook, and save all your source files in the thumb drive and do **NOT** delete your source files.\n",
        "\n",
        "You are strongly encouraged to manage your time well.\n",
        "\n",
        "<div style=\"text-align:right; font-weight:bold\">Total Marks: [40]</div>"
      ]
    },
    {
      "cell_type": "code",
      "execution_count": null,
      "metadata": {
        "id": "PwE9QxeoFybz"
      },
      "outputs": [],
      "source": [
        "# Test Run Code Cell:\n",
        "print(\"All the best for this paper!\")"
      ]
    },
    {
      "cell_type": "markdown",
      "metadata": {
        "id": "17hYt5F-Fyb2"
      },
      "source": [
        "# Task 1.1\n",
        "\n",
        "Implement a function `comp_stu(stu1, stu2)` that takes in two `tuples` containing student information and returns a `boolean` value.\n",
        "\n",
        "Each `tuple` represents student information in the form of `(name, level, score)`. The function should first compare the `level` of the students. If the levels are equal, the function should then compare the `score` of the students.\n",
        "\n",
        "- `stu1` is considered **less** than `stu2` if `stu1` has a **smaller** `level` value.\n",
        "- If the `level` is the same, then `stu1` is considered **less** than `stu2` if `stu1` has a **smaller** `score` value.\n",
        "\n",
        "The function should return `True` if `stu1` is **less** than `stu2`, and `False` otherwise.\n",
        "\n",
        "You may assume that there are no commas in the student names, and no students have the same level and score.\n",
        "\n",
        "You will be assessed, but not limited to, based on the standard output of the following function calls:\n",
        "- `test_1_1()`\n",
        "\n",
        "\n",
        "<div style=\"text-align:right; font-weight:bold\">[2]</div>"
      ]
    },
    {
      "cell_type": "code",
      "execution_count": null,
      "metadata": {
        "id": "R3eaUkyOFyb3"
      },
      "outputs": [],
      "source": [
        "# Your code for Task 1.1\n",
        "\n",
        "def comp_stu(stu1, stu2):\n",
        "    if stu1[1] == stu2[1]:\n",
        "        return stu1[2] < stu2[2]\n",
        "    else:\n",
        "        return stu1[1] < stu2[1]\n",
        "\n",
        "def comp_stu(stu1, stu2):\n",
        "    return (stu1[1], stu1[2]) < (stu2[1], stu2[2])"
      ]
    },
    {
      "cell_type": "code",
      "execution_count": null,
      "metadata": {
        "id": "9CXPVYrmFyb4",
        "outputId": "9daaffaa-aaf1-4aeb-cda6-f3b75aa626ee"
      },
      "outputs": [
        {
          "name": "stdout",
          "output_type": "stream",
          "text": [
            "False\n",
            "True\n",
            "True\n"
          ]
        }
      ],
      "source": [
        "# Test code for Task 1.1\n",
        "def test_1_1():\n",
        "    stu1 = (\"Xiao Ming\", 3, 90)\n",
        "    stu2 = (\"Xiao Hong\", 3, 60)\n",
        "    stu3 = (\"Xiao Hua\", 4, 80)\n",
        "\n",
        "    print(comp_stu(stu1, stu2))  # False\n",
        "    print(comp_stu(stu2, stu3))  # True\n",
        "    print(comp_stu(stu1, stu3))  # True\n",
        "\n",
        "test_1_1()"
      ]
    },
    {
      "cell_type": "markdown",
      "metadata": {
        "id": "DEtQNT11Fyb7"
      },
      "source": [
        "# Task 1.2\n",
        "\n",
        "Implement a **quicksort** function `qs_stu(stu_list)` that sorts a list of student information in ascending order based on the `level` and `score` of the students.\n",
        "\n",
        "You will be assessed, but not limited to, based on the standard output of the following function calls:\n",
        "- `test_1_2()`\n",
        "\n",
        "<div style=\"text-align:right; font-weight:bold\">[4]</div>"
      ]
    },
    {
      "cell_type": "code",
      "execution_count": null,
      "metadata": {
        "id": "qWdRa6NwFyb8"
      },
      "outputs": [],
      "source": [
        "# Your code for Task 1.2\n",
        "\n",
        "def qs_stu(stu_list):\n",
        "    if len(stu_list) <= 1:\n",
        "        return stu_list\n",
        "    pivot = stu_list[0]\n",
        "    left, right = [], []\n",
        "    for item in stu_list[1:]:\n",
        "        if comp_stu(item, pivot):\n",
        "            left.append(item)\n",
        "        else:\n",
        "            right.append(item)\n",
        "    sorted_left = qs_stu(left)\n",
        "    sorted_right = qs_stu(right)\n",
        "    return sorted_left + [pivot] + sorted_right"
      ]
    },
    {
      "cell_type": "code",
      "execution_count": null,
      "metadata": {
        "id": "iGriHba7Fyb9",
        "outputId": "87dbca9f-e29f-46ce-a8a1-997675a57819"
      },
      "outputs": [
        {
          "name": "stdout",
          "output_type": "stream",
          "text": [
            "[('Xiao Hong', 3, 80), ('Xiao Ming', 3, 90), ('Xiao Hua', 4, 85)]\n",
            "[('Xiao Hong', 3, 80), ('Xiao Fang', 3, 85), ('Xiao Ming', 3, 90), ('Xiao Fang', 4, 80), ('Xiao Hua', 4, 85), ('Xiao Fang', 4, 88)]\n"
          ]
        }
      ],
      "source": [
        "# Test code for Task 1.2\n",
        "def test_1_2():\n",
        "    stu_list1 = [(\"Xiao Ming\", 3, 90), (\"Xiao Hong\", 3, 80), (\"Xiao Hua\", 4, 85)]\n",
        "    stu_list2 = [(\"Xiao Ming\", 3, 90), (\"Xiao Hong\", 3, 80), (\"Xiao Hua\", 4, 85),\n",
        "                (\"Xiao Fang\", 4, 88), (\"Xiao Fang\", 3, 85), (\"Xiao Fang\", 4, 80)]\n",
        "\n",
        "    print(qs_stu(stu_list1))  # [('Xiao Hong', 3, 80), ('Xiao Ming', 3, 90), ('Xiao Hua', 4, 85)]\n",
        "    print(qs_stu(stu_list2))  # [('Xiao Hong', 3, 80), ('Xiao Fang', 3, 85), ('Xiao Ming', 3, 90), ('Xiao Fang', 4, 80), ('Xiao Hua', 4, 85), ('Xiao Fang', 4, 88)]\n",
        "\n",
        "test_1_2()"
      ]
    },
    {
      "cell_type": "markdown",
      "metadata": {
        "id": "GkdahClAFyb-"
      },
      "source": [
        "# Task 1.3\n",
        "All data files are stored in the `data_files` folder.\n",
        "\n",
        "Read the student information from the file `students.txt` and store it in a `list` of `tuples`. Each `tuple` should contain the student information in the form of `(name, level, score)`.\n",
        "\n",
        "Use the `qs_stu()` function to sort the `list` of student information.\n",
        "\n",
        "Then, store the sorted list in a new file called `students_sorted.txt`. Each line in the file should contain the student information in the form of `name,level,score`, where `name`, `level`, and `score` are separated by commas. There should be no spaces in front of or behind the commas.\n",
        "\n",
        "You can check the content of the file `expected_output.txt` to verify the correctness of your output.\n",
        "\n",
        "You will be assessed, but not limited to, based on the standard output of the following function calls:\n",
        "- `test_1_3()`\n",
        "\n",
        "<div style=\"text-align:right; font-weight:bold\">[4]</div>"
      ]
    },
    {
      "cell_type": "code",
      "execution_count": null,
      "metadata": {
        "id": "kyy993XLFycA"
      },
      "outputs": [],
      "source": [
        "# Your code for Task 1.3\n",
        "\n",
        "def process_students():\n",
        "    # read data\n",
        "    with open(\"data_files/students.txt\", \"r\") as f:\n",
        "        raw = f.read()\n",
        "        rows = raw.split(\"\\n\")\n",
        "        # print(rows)\n",
        "    # process data\n",
        "    students = []\n",
        "    for row in rows[:-1]:  # ignore the last empty row\n",
        "        name, level, score = row.split(\",\")\n",
        "        # need to do type casting!\n",
        "        # 8 < 18: True\n",
        "        # \"8\" < \"18\": False\n",
        "        students.append((name, int(level), int(score)))\n",
        "    # print(students)\n",
        "    # sort data\n",
        "    sorted_students = qs_stu(students)\n",
        "\n",
        "    # store data\n",
        "    output = \"\"\n",
        "    for stu in sorted_students:\n",
        "        output += f\"{stu[0]},{stu[1]},{stu[2]}\\n\"\n",
        "    with open(\"data_files/students_sorted.txt\", \"w\") as f:\n",
        "        f.write(output)\n",
        "\n",
        "process_students()"
      ]
    },
    {
      "cell_type": "code",
      "execution_count": null,
      "metadata": {
        "id": "GJuhpuSdFycA",
        "outputId": "89ecf3b1-4f69-4204-f1a3-ac0a590bf5bb"
      },
      "outputs": [
        {
          "name": "stdout",
          "output_type": "stream",
          "text": [
            "True\n"
          ]
        }
      ],
      "source": [
        "# Test code for Task 1.3\n",
        "def test_1_3():\n",
        "    with open(\"data_files/students_sorted.txt\", \"r\") as f:\n",
        "        sorted_data = f.read()\n",
        "    with open(\"data_files/expected_output.txt\", \"r\") as f:\n",
        "        sorted_solution = f.read()\n",
        "    print(sorted_data == sorted_solution)  # True\n",
        "\n",
        "test_1_3()"
      ]
    },
    {
      "cell_type": "markdown",
      "metadata": {
        "id": "BIGFNgFuFycB"
      },
      "source": [
        "# Task 2.1 - `CityObject` Class\n",
        "\n",
        "Implement `CityObject` class according to the UML class diagram and the attributes / methods specifications.\n",
        "\n",
        "<div style=\"text-align:right; font-weight:bold\">[4]</div>"
      ]
    },
    {
      "cell_type": "code",
      "execution_count": null,
      "metadata": {
        "id": "nWGZBW0rFycB"
      },
      "outputs": [],
      "source": [
        "# Your code for Task 2.1 here\n",
        "\n",
        "class CityObject:\n",
        "    def __init__(self, name, abbr, size):\n",
        "        self._name = name\n",
        "        self._abbr = abbr\n",
        "        self._size = size\n",
        "\n",
        "    def get_name(self):\n",
        "        return self._name\n",
        "\n",
        "    def get_size(self):\n",
        "        return self._size\n",
        "\n",
        "    def __str__(self):\n",
        "        return self._abbr"
      ]
    },
    {
      "cell_type": "markdown",
      "metadata": {
        "id": "D4l266HrFycC"
      },
      "source": [
        "# Task 2.2 - Test for `CityObject` Class\n",
        "\n",
        "Create an instance from the `CityObject` class and test out all the methods you have defined.\n",
        "\n",
        "`name: \"Test Object\", abbr: \"t\", size: 2`\n",
        "\n",
        "<div style=\"text-align:right; font-weight:bold\">[2]</div>"
      ]
    },
    {
      "cell_type": "code",
      "execution_count": null,
      "metadata": {
        "id": "PsWi4zkBFycC",
        "outputId": "9e03576a-4a3d-4a13-a7d0-e53e79b20f29"
      },
      "outputs": [
        {
          "name": "stdout",
          "output_type": "stream",
          "text": [
            "Test Object\n",
            "2\n",
            "t\n"
          ]
        }
      ],
      "source": [
        "# Your code for Task 2.2 here\n",
        "co = CityObject(\"Test Object\", \"t\", 2)\n",
        "print(co.get_name())\n",
        "print(co.get_size())\n",
        "print(co)  # __str__ method"
      ]
    },
    {
      "cell_type": "markdown",
      "metadata": {
        "id": "4uOVc4xsFycD"
      },
      "source": [
        "# Task 2.3 – `Building` Class\n",
        "\n",
        "Implement `Building` class according to the UML class diagram and the attributes / methods specifications.\n",
        "\n",
        "<div style=\"text-align:right; font-weight:bold\">Marks: [3]</div>"
      ]
    },
    {
      "cell_type": "code",
      "execution_count": null,
      "metadata": {
        "id": "G3HNjL88FycD"
      },
      "outputs": [],
      "source": [
        "# Your code for Task 2.3 here\n",
        "\n",
        "class Building(CityObject):\n",
        "    def __init__(self, name, abbr, size):\n",
        "        super().__init__(name, abbr, size)\n",
        "        self._services = {}\n",
        "\n",
        "    def add_service(self, service, cost, energy):\n",
        "        self._services[service] = (cost, energy)\n",
        "\n",
        "    def get_services(self):\n",
        "        return self._services"
      ]
    },
    {
      "cell_type": "markdown",
      "metadata": {
        "id": "8RG-npUqFycE"
      },
      "source": [
        "# Task 2.4 – `Character` Class\n",
        "\n",
        "Implement `Character` class according to the UML class diagram and the attributes / methods specifications.\n",
        "\n",
        "<div style=\"text-align:right; font-weight:bold\">Marks: [8]</div>"
      ]
    },
    {
      "cell_type": "code",
      "execution_count": null,
      "metadata": {
        "id": "GmHT4SIOFycE",
        "outputId": "c59338ee-a6bb-4754-9694-c40de31d5e0f"
      },
      "outputs": [
        {
          "name": "stdout",
          "output_type": "stream",
          "text": [
            "Services available in Bank:\n",
            "deposit (10, 0)\n",
            "withdraw (-10, 0)\n"
          ]
        },
        {
          "name": "stdin",
          "output_type": "stream",
          "text": [
            "Your choice:  deposit\n"
          ]
        },
        {
          "name": "stdout",
          "output_type": "stream",
          "text": [
            "Service selected: deposit\n",
            "Update successful.\n",
            "New values for money, energy: (110, 3)\n"
          ]
        }
      ],
      "source": [
        "# Your code for Task 2.4 here\n",
        "\n",
        "class Character(CityObject):\n",
        "    def __init__(self, name, abbr, money, energy):\n",
        "        super().__init__(name, abbr, 1)\n",
        "        self._money = money\n",
        "        self._energy = energy\n",
        "\n",
        "    def update_me(self, dm, de):\n",
        "        if self._money + dm < 0 or self._energy + de < 0:\n",
        "            print(\"Not enough money or energy.\")\n",
        "            print(f\"Current money, energy: ({self._money}, {self._energy})\")\n",
        "            return False\n",
        "        else:\n",
        "            self._money += dm\n",
        "            self._energy += de\n",
        "            print(\"Update successful.\")\n",
        "            print(f\"New values for money, energy: ({self._money}, {self._energy})\")\n",
        "            return True\n",
        "\n",
        "    def interact(self, building):\n",
        "        services = building.get_services()\n",
        "        print(f\"Services available in {building.get_name()}:\")\n",
        "        for service in services:\n",
        "            print(f\"{service} {services[service]}\")\n",
        "\n",
        "        user_choice = input(\"Your choice: \")\n",
        "        print(f\"Service selected: {user_choice}\")\n",
        "\n",
        "        dm, de = services[user_choice]\n",
        "        self.update_me(dm, de)\n",
        "\n",
        "c = Character(\"Xiao Ming\", \"c\", 100, 3)\n",
        "b1 = Building(\"Bank\", \"b\", 2)\n",
        "b1.add_service(\"deposit\", 10, 0)\n",
        "b1.add_service(\"withdraw\", -10, 0)\n",
        "c.interact(b1)"
      ]
    },
    {
      "cell_type": "markdown",
      "metadata": {
        "id": "6Yl1VGhqFycE"
      },
      "source": [
        "# Task 3.1 – `CityGrid` Class\n",
        "\n",
        "Implement `CityGrid` class according to the UML class diagram and the attributes / methods specifications.\n",
        "\n",
        "You can use `test_2_1()` to test your implementation. You are encouraged to remove or add test cases to check the correctness of your implementation.\n",
        "\n",
        "**Note**: When using VSCode, sometimes the output of the test cases may not be displayed when asking for user input. You can try re-run the test a few times or run the test in Jupyter Notebook.\n",
        "\n",
        "<div style=\"text-align:right; font-weight:bold\">Marks: [13]</div>"
      ]
    },
    {
      "cell_type": "code",
      "execution_count": null,
      "metadata": {
        "id": "sysv1y4KFycF"
      },
      "outputs": [],
      "source": [
        "# Test for Task 3.1\n",
        "\n",
        "class CityGrid:\n",
        "    def __init__(self, size, mc):\n",
        "        self._size = size\n",
        "        self._mc = mc\n",
        "        self.reset()\n",
        "\n",
        "    def reset(self):\n",
        "        self._mc_coord = (0, 0)  # default position of main char\n",
        "        self._grid = [[None for _ in range(self._size)] for _ in range(self._size)]\n",
        "\n",
        "    def get_mc(self):\n",
        "        return self._mc\n",
        "\n",
        "    def add_object(self, obj, x, y):\n",
        "        for shift_x in range(obj.get_size()):\n",
        "            for shift_y in range(obj.get_size()):\n",
        "                new_x = x + shift_x\n",
        "                new_y = y + shift_y\n",
        "                if new_x < 0 or new_x >= self._size or \\\n",
        "                    new_y < 0 or new_y >= self._size:\n",
        "                    # goes beyond the border\n",
        "                    print(\"Object does not fit in the grid.\")\n",
        "                    return False\n",
        "                elif self._grid[new_x][new_y] is not None:\n",
        "                    # overlapping with existing objects\n",
        "                    print(\"Object overlaps with another object.\")\n",
        "                    return False\n",
        "        # passed all checks, add obj to all grids\n",
        "        for shift_x in range(obj.get_size()):\n",
        "            for shift_y in range(obj.get_size()):\n",
        "                new_x = x + shift_x\n",
        "                new_y = y + shift_y\n",
        "                self._grid[new_x][new_y] = obj\n",
        "\n",
        "    def get_obj(self, x, y):\n",
        "        return self._grid[x][y]\n",
        "\n",
        "    def display(self):\n",
        "        result = \"\"\n",
        "        line = \"+\" + \"-\" * self._size + \"+\\n\"\n",
        "        result += line  # top border\n",
        "        for x in range(self._size):\n",
        "            result += \"|\"  # left border\n",
        "            for y in range(self._size):\n",
        "                if self._grid[x][y] is not None:\n",
        "                    # there's a building\n",
        "                    if (x, y) == self._mc_coord:\n",
        "                        # mc on top of building\n",
        "                        result += str(self._mc).upper()\n",
        "                    else:\n",
        "                        # only building\n",
        "                        result += str(self._grid[x][y])\n",
        "                elif (x, y) == self._mc_coord:\n",
        "                    # mc not on top of building\n",
        "                    result += str(self._mc)\n",
        "                else:\n",
        "                    # not a building\n",
        "                    result += \" \"\n",
        "            result += \"|\\n\"  # right border\n",
        "        result += line  # bottom border\n",
        "        print(result)\n",
        "        return result\n",
        "\n",
        "    def move_mc(self, x, y):\n",
        "        if x < 0 or x >= self._size or \\\n",
        "            y < 0 or y >= self._size:\n",
        "            print(\"Unable to move the character, the new location is out of bounds.\")\n",
        "        else:\n",
        "            print(f\"{self._mc.get_name()} moved to ({x}, {y})\")\n",
        "            self._mc_coord = (x, y)\n",
        "            if self._grid[x][y] is not None:\n",
        "                self._mc.interact(self._grid[x][y])"
      ]
    },
    {
      "cell_type": "code",
      "execution_count": null,
      "metadata": {
        "id": "MVHWT2JuFycF",
        "outputId": "554b7dda-41a9-4a7a-8a97-7a503f71cdb0"
      },
      "outputs": [
        {
          "name": "stdout",
          "output_type": "stream",
          "text": [
            "Start:\n",
            "+----------+\n",
            "|cbb       |\n",
            "| bb       |\n",
            "|     rr   |\n",
            "|     rr   |\n",
            "|          |\n",
            "|   hh     |\n",
            "|   hh ppp |\n",
            "|      ppp |\n",
            "|      ppp |\n",
            "|          |\n",
            "+----------+\n",
            "\n",
            "Xiao Ming moved to (1, 1)\n",
            "Services available in Bank:\n",
            "deposit (10, 0)\n",
            "withdraw (-10, 0)\n"
          ]
        },
        {
          "name": "stdin",
          "output_type": "stream",
          "text": [
            "Your choice:  deposit\n"
          ]
        },
        {
          "name": "stdout",
          "output_type": "stream",
          "text": [
            "Service selected: deposit\n",
            "Update successful.\n",
            "New values for money, energy: (110, 3)\n",
            "Xiao Ming moved to (2, 2)\n",
            "Xiao Ming moved to (2, 5)\n",
            "Services available in Restaurant:\n",
            "coffee (-5, 1)\n",
            "cake (-10, 2)\n",
            "work (10, -2)\n"
          ]
        },
        {
          "name": "stdin",
          "output_type": "stream",
          "text": [
            "Your choice:  coffee\n"
          ]
        },
        {
          "name": "stdout",
          "output_type": "stream",
          "text": [
            "Service selected: coffee\n",
            "Update successful.\n",
            "New values for money, energy: (105, 4)\n",
            "Xiao Ming moved to (8, 8)\n",
            "Services available in Park:\n",
            "rest (0, 1)\n",
            "clean (5, -1)\n",
            "cycle (-5, -2)\n",
            "jog (0, -1)\n"
          ]
        },
        {
          "name": "stdin",
          "output_type": "stream",
          "text": [
            "Your choice:  rest\n"
          ]
        },
        {
          "name": "stdout",
          "output_type": "stream",
          "text": [
            "Service selected: rest\n",
            "Update successful.\n",
            "New values for money, energy: (105, 5)\n",
            "Xiao Ming moved to (5, 3)\n",
            "Services available in Home:\n",
            "rest (0, 1)\n",
            "work (10, -2)\n",
            "tv (0, 1)\n",
            "sleep (0, 3)\n"
          ]
        },
        {
          "name": "stdin",
          "output_type": "stream",
          "text": [
            "Your choice:  sleep\n"
          ]
        },
        {
          "name": "stdout",
          "output_type": "stream",
          "text": [
            "Service selected: sleep\n",
            "Update successful.\n",
            "New values for money, energy: (105, 8)\n"
          ]
        }
      ],
      "source": [
        "def test_3_1():\n",
        "    c = Character(\"Xiao Ming\", \"c\", 100, 3)\n",
        "    b1 = Building(\"Bank\", \"b\", 2)\n",
        "    b1.add_service(\"deposit\", 10, 0)\n",
        "    b1.add_service(\"withdraw\", -10, 0)\n",
        "\n",
        "    b2 = Building(\"Restaurant\", \"r\", 2)\n",
        "    b2.add_service(\"coffee\", -5, 1)\n",
        "    b2.add_service(\"cake\", -10, 2)\n",
        "    b2.add_service(\"work\", 10, -2)\n",
        "\n",
        "    b3 = Building(\"Park\", \"p\", 3)\n",
        "    b3.add_service(\"rest\", 0, 1)\n",
        "    b3.add_service(\"clean\", 5, -1)\n",
        "    b3.add_service(\"cycle\", -5, -2)\n",
        "    b3.add_service(\"jog\", 0, -1)\n",
        "\n",
        "    b4 = Building(\"Home\", \"h\", 2)\n",
        "    b4.add_service(\"rest\", 0, 1)\n",
        "    b4.add_service(\"work\", 10, -2)\n",
        "    b4.add_service(\"tv\", 0, 1)\n",
        "    b4.add_service(\"sleep\", 0, 3)\n",
        "\n",
        "    cg = CityGrid(10, c)\n",
        "    buildings = [b1, b2, b3, b4]\n",
        "    b_coords = [(0, 1), (2, 5), (6, 6), (5, 3)]\n",
        "    for i in range(len(buildings)):\n",
        "        b = buildings[i]\n",
        "        x, y = b_coords[i]\n",
        "        cg.add_object(b, x, y)\n",
        "\n",
        "    print(\"Start:\")\n",
        "    cg.display()\n",
        "    moves = [(1, 1), (2, 2), (2, 5), (8, 8), (5, 3)]\n",
        "    for move in moves:\n",
        "        cg.move_mc(*move)\n",
        "\n",
        "test_3_1()"
      ]
    }
  ],
  "metadata": {
    "kernelspec": {
      "display_name": "Python 3 (ipykernel)",
      "language": "python",
      "name": "python3"
    },
    "language_info": {
      "codemirror_mode": {
        "name": "ipython",
        "version": 3
      },
      "file_extension": ".py",
      "mimetype": "text/x-python",
      "name": "python",
      "nbconvert_exporter": "python",
      "pygments_lexer": "ipython3",
      "version": "3.12.4"
    },
    "colab": {
      "provenance": [],
      "include_colab_link": true
    }
  },
  "nbformat": 4,
  "nbformat_minor": 0
}